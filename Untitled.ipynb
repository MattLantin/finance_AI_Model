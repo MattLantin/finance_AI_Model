{
 "cells": [
  {
   "cell_type": "code",
   "execution_count": 1,
   "id": "6e4ca8b0-3a90-4509-aef5-fae9f8c6ef8c",
   "metadata": {},
   "outputs": [
    {
     "ename": "_IncompleteInputError",
     "evalue": "incomplete input (2861519759.py, line 53)",
     "output_type": "error",
     "traceback": [
      "\u001b[1;36m  Cell \u001b[1;32mIn[1], line 53\u001b[1;36m\u001b[0m\n\u001b[1;33m    plt.hist(daily_returns, bins=30, alpha=0\u001b[0m\n\u001b[1;37m                                            ^\u001b[0m\n\u001b[1;31m_IncompleteInputError\u001b[0m\u001b[1;31m:\u001b[0m incomplete input\n"
     ]
    }
   ],
   "source": [
    "# Required Libraries\n",
    "import numpy as np\n",
    "import pandas as pd\n",
    "import matplotlib.pyplot as plt\n"
   ]
  },
  {
   "cell_type": "code",
   "execution_count": null,
   "id": "7b34c8eb-6942-4ebc-8541-8f6f52e4314d",
   "metadata": {},
   "outputs": [],
   "source": [
    "# Set up sample portfolio returns data (simulated)\n",
    "np.random.seed(42)  # For reproducibility\n",
    "daily_returns = pd.Series(np.random.normal(0.0005, 0.01, 252), name=\"Daily Returns\")  # One year of returns\n"
   ]
  },
  {
   "cell_type": "code",
   "execution_count": null,
   "id": "92e79017-0be4-4cbf-8472-df0234efba6a",
   "metadata": {},
   "outputs": [],
   "source": []
  }
 ],
 "metadata": {
  "kernelspec": {
   "display_name": "Python 3 (ipykernel)",
   "language": "python",
   "name": "python3"
  },
  "language_info": {
   "codemirror_mode": {
    "name": "ipython",
    "version": 3
   },
   "file_extension": ".py",
   "mimetype": "text/x-python",
   "name": "python",
   "nbconvert_exporter": "python",
   "pygments_lexer": "ipython3",
   "version": "3.13.1"
  }
 },
 "nbformat": 4,
 "nbformat_minor": 5
}
